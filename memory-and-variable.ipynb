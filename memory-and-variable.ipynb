{
 "cells": [
  {
   "cell_type": "markdown",
   "metadata": {},
   "source": [
    "# 2. 记住内存和变量"
   ]
  },
  {
   "cell_type": "markdown",
   "metadata": {},
   "source": [
    "**你将学到:**\n",
    "\n",
    "+ 如何使用变量在内存中\"记住\"或保存信息\n",
    "+ 变量也叫做 \"名字\" 或 \"变量名\"\n",
    "+ 变量可以是不同的东西, 如数字和字符串"
   ]
  },
  {
   "cell_type": "markdown",
   "metadata": {},
   "source": [
    "**动手试一试**\n",
    "1. 创建一个变量, 并给它赋一个数值, 然后用 print 打印这个变量\n",
    "2. 改变这个变量, 可以用一个新值替换原来的值, 或者将原来的值增加某个量. 使用 print 显示这个新值.\n",
    "3. 创建另一个变量, 并赋给它一个字符串, 然后用 print 显示这个变量.\n",
    "4. 在交互模式中让 Python 计算一周有多少分钟. 但要使用变量. 分别以 DaysPerWeek (第周天数), HoursPerDay (每天小时数) 和 MinutesPerHour (每小时分钟数)为名字创建变量 (当然, 你也可以用自己取的变量名), 然后将它们相乘.\n",
    "5. 人们问题说没有足够时间做到尽善尽美. 如果一天有 26 个小时, 那么一周会有多少分钟呢? (提示: 改变 HoursPerDay)"
   ]
  },
  {
   "cell_type": "markdown",
   "metadata": {},
   "source": [
    "程序的特征: 就是给计算机下达的一系列指令\n",
    "\n",
    "1. 输入(input)\n",
    "1. 处理(process)\n",
    "1. 输出(output)\n",
    "\n",
    "游戏中的输入, 处理, 输出\n",
    "\n",
    "**如何处理输入?** 计算机处理输入, 必须首先记住输入. \n",
    "\n",
    "什么是内存? 画一个内存, 用便签演示\n",
    "\n",
    "计算机如何把东西放在内存中的某个地方呢?\n",
    "放好之后如何找回来呢?\n",
    "计算机内存中可以放什么东西呢?\n",
    "1. 数字\n",
    "1. 字符串或字符序列,\n",
    "1. 算术表达式\n",
    "\n",
    "你要取回你的东西时, 你只要提供名字即可, 不需要知道东西的具体位置, Python 会"
   ]
  },
  {
   "cell_type": "code",
   "execution_count": 3,
   "metadata": {
    "collapsed": false
   },
   "outputs": [
    {
     "name": "stdout",
     "output_type": "stream",
     "text": [
      "25+58\n",
      "83\n",
      "10\n"
     ]
    }
   ],
   "source": [
    "print(\"25+58\")\n",
    "print(25+58)\n",
    "你好 = 10\n",
    "print(你好)"
   ]
  },
  {
   "cell_type": "markdown",
   "metadata": {},
   "source": [
    "### 2.2 名字"
   ]
  },
  {
   "cell_type": "code",
   "execution_count": 1,
   "metadata": {
    "collapsed": false
   },
   "outputs": [
    {
     "name": "stdout",
     "output_type": "stream",
     "text": [
      "Wei Huayi\n"
     ]
    }
   ],
   "source": [
    "Teacher = \"Wei Huayi\" # 赋值操作\n",
    "print(Teacher)"
   ]
  },
  {
   "cell_type": "markdown",
   "metadata": {},
   "source": [
    "1. 字符串\\数字可以名字\n",
    "1. 一个东西可以有多个名字"
   ]
  },
  {
   "cell_type": "markdown",
   "metadata": {},
   "source": [
    "### 2.3 名字中可以有什么字符"
   ]
  },
  {
   "cell_type": "markdown",
   "metadata": {},
   "source": [
    "1. 字母和数字, 下划线\n",
    "1. 区分大小写\n",
    "1. 必须以字母或者下划线开头\n",
    "1. 不能有空格"
   ]
  },
  {
   "cell_type": "markdown",
   "metadata": {},
   "source": [
    "### 2.4 数字和字符串"
   ]
  },
  {
   "cell_type": "markdown",
   "metadata": {},
   "source": [
    "**字符串** 字母,数字或标点符号组成的序列, 用 \"\" ''来区别."
   ]
  },
  {
   "cell_type": "markdown",
   "metadata": {},
   "source": [
    "**长字符串** 三重引号字符串. (triple-quoted string) \"\"\"  \"\"\"\"  '''   '''"
   ]
  },
  {
   "cell_type": "markdown",
   "metadata": {},
   "source": [
    "字符串的操作 "
   ]
  },
  {
   "cell_type": "code",
   "execution_count": 2,
   "metadata": {
    "collapsed": false
   },
   "outputs": [
    {
     "name": "stdout",
     "output_type": "stream",
     "text": [
      "catdog\n"
     ]
    }
   ],
   "source": [
    "print(\"cat\"+\"dog\")"
   ]
  },
  {
   "cell_type": "markdown",
   "metadata": {},
   "source": [
    "### 它们有多可变"
   ]
  },
  {
   "cell_type": "code",
   "execution_count": 3,
   "metadata": {
    "collapsed": true
   },
   "outputs": [],
   "source": [
    "Teacher = 'wei huayi'"
   ]
  },
  {
   "cell_type": "code",
   "execution_count": null,
   "metadata": {
    "collapsed": true
   },
   "outputs": [],
   "source": [
    "Teacher = 'Xiong Ting'"
   ]
  }
 ],
 "metadata": {
  "kernelspec": {
   "display_name": "Python 3",
   "language": "python",
   "name": "python3"
  },
  "language_info": {
   "codemirror_mode": {
    "name": "ipython",
    "version": 3
   },
   "file_extension": ".py",
   "mimetype": "text/x-python",
   "name": "python",
   "nbconvert_exporter": "python",
   "pygments_lexer": "ipython3",
   "version": "3.5.2"
  },
  "latex_envs": {
   "LaTeX_envs_menu_present": true,
   "bibliofile": "biblio.bib",
   "cite_by": "apalike",
   "current_citInitial": 1,
   "eqLabelWithNumbers": true,
   "eqNumInitial": 0
  }
 },
 "nbformat": 4,
 "nbformat_minor": 1
}
