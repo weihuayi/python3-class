{
 "cells": [
  {
   "cell_type": "markdown",
   "metadata": {},
   "source": [
    "# Easygui"
   ]
  },
  {
   "cell_type": "markdown",
   "metadata": {},
   "source": [
    "Easygui 是一个 Python 模块, 利用这个模块可以很容易地建立简章的 GUI 程序. \n",
    "\n",
    "GUI (Graphic User Interface)"
   ]
  },
  {
   "cell_type": "markdown",
   "metadata": {},
   "source": [
    "## GUI 输入 "
   ]
  },
  {
   "cell_type": "code",
   "execution_count": 2,
   "metadata": {
    "collapsed": false
   },
   "outputs": [
    {
     "name": "stdout",
     "output_type": "stream",
     "text": [
      "OK\n"
     ]
    }
   ],
   "source": [
    "import easygui\n",
    "user_response = easygui.msgbox(\"您好!\")\n",
    "print(user_response)"
   ]
  },
  {
   "cell_type": "markdown",
   "metadata": {},
   "source": [
    "## 有多个按钮的对话框 "
   ]
  },
  {
   "cell_type": "code",
   "execution_count": 3,
   "metadata": {
    "collapsed": false
   },
   "outputs": [
    {
     "data": {
      "text/plain": [
       "'OK'"
      ]
     },
     "execution_count": 3,
     "metadata": {},
     "output_type": "execute_result"
    }
   ],
   "source": [
    "import easygui\n",
    "c = ['Vnilla', 'Chocolate', 'Strawberry']\n",
    "flavor = easygui.buttonbox(\"What is your favorite ice cream flavor?\", choices=c)\n",
    "easygui.msgbox(\"You picked \"+flavor)"
   ]
  },
  {
   "cell_type": "markdown",
   "metadata": {},
   "source": [
    "## 选择框 "
   ]
  },
  {
   "cell_type": "code",
   "execution_count": 4,
   "metadata": {
    "collapsed": false
   },
   "outputs": [
    {
     "name": "stdout",
     "output_type": "stream",
     "text": [
      "[0]\n"
     ]
    },
    {
     "data": {
      "text/plain": [
       "'OK'"
      ]
     },
     "execution_count": 4,
     "metadata": {},
     "output_type": "execute_result"
    }
   ],
   "source": [
    "import easygui\n",
    "c = ['Vnilla', 'Chocolate', 'Strawberry']\n",
    "flavor = easygui.choicebox(\"What is your favorite ice cream flavor?\", choices=c)\n",
    "easygui.msgbox(\"You picked \"+flavor)"
   ]
  },
  {
   "cell_type": "markdown",
   "metadata": {},
   "source": [
    "## 文本输入 "
   ]
  },
  {
   "cell_type": "code",
   "execution_count": 5,
   "metadata": {
    "collapsed": false
   },
   "outputs": [
    {
     "data": {
      "text/plain": [
       "'OK'"
      ]
     },
     "execution_count": 5,
     "metadata": {},
     "output_type": "execute_result"
    }
   ],
   "source": [
    "import easygui\n",
    "flavor = easygui.enterbox(\"What is your favorite ice cream flavor?\")\n",
    "easygui.msgbox(\"You entered \"+flavor)"
   ]
  },
  {
   "cell_type": "markdown",
   "metadata": {},
   "source": [
    "## 默认输入 "
   ]
  },
  {
   "cell_type": "code",
   "execution_count": 6,
   "metadata": {
    "collapsed": false
   },
   "outputs": [
    {
     "data": {
      "text/plain": [
       "'OK'"
      ]
     },
     "execution_count": 6,
     "metadata": {},
     "output_type": "execute_result"
    }
   ],
   "source": [
    "import easygui\n",
    "flavor = easygui.enterbox(\"What is your favorite ice cream flavor?\", default='Vanilla')\n",
    "easygui.msgbox(\"You entered \"+flavor)"
   ]
  },
  {
   "cell_type": "markdown",
   "metadata": {},
   "source": [
    "## 输入整数"
   ]
  },
  {
   "cell_type": "code",
   "execution_count": 9,
   "metadata": {
    "collapsed": false
   },
   "outputs": [
    {
     "data": {
      "text/plain": [
       "'OK'"
      ]
     },
     "execution_count": 9,
     "metadata": {},
     "output_type": "execute_result"
    }
   ],
   "source": [
    "import easygui\n",
    "num = easygui.integerbox(\"What is your favorite ice cream flavor?\", default=10, lowerbound=0, upperbound=1000)\n",
    "easygui.msgbox(num)"
   ]
  },
  {
   "cell_type": "markdown",
   "metadata": {},
   "source": [
    "如何输入浮点数?"
   ]
  },
  {
   "cell_type": "code",
   "execution_count": null,
   "metadata": {
    "collapsed": true
   },
   "outputs": [],
   "source": [
    "import random\n",
    "secret = random.randint(1, 99)\n",
    "guess = 0\n",
    "tries = 0\n",
    "print ('AHOY! I am the Dread Prites Roberts , and i have a secret!')\n",
    "print ('It is a number from 1 to 99. I\\'ll give you 6 tries ')\n",
    "\n",
    "while guess != secret and tries < 6:\n",
    "    guess = int(input('What is your guess? '))\n",
    "    tries = tries + 1\n",
    "    if guess < secret:\n",
    "         print ('Too Low, you scurvy dog!')\n",
    "    elif guess > secret:\n",
    "         print ('Too high, boy')\n",
    "\n",
    "if guess == secret: \n",
    "    print ('Avast! you got it ! Found my seceret , you did!')\n",
    "else:\n",
    "    print ('No more guess! Better Luck next time')\n",
    "    print ('The secret number was',secret)"
   ]
  }
 ],
 "metadata": {
  "kernelspec": {
   "display_name": "Python 3",
   "language": "python",
   "name": "python3"
  },
  "language_info": {
   "codemirror_mode": {
    "name": "ipython",
    "version": 3
   },
   "file_extension": ".py",
   "mimetype": "text/x-python",
   "name": "python",
   "nbconvert_exporter": "python",
   "pygments_lexer": "ipython3",
   "version": "3.5.2"
  },
  "latex_envs": {
   "LaTeX_envs_menu_present": true,
   "bibliofile": "biblio.bib",
   "cite_by": "apalike",
   "current_citInitial": 1,
   "eqLabelWithNumbers": true,
   "eqNumInitial": 0
  }
 },
 "nbformat": 4,
 "nbformat_minor": 1
}
