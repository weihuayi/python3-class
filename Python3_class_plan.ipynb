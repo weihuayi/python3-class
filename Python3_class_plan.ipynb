{
 "cells": [
  {
   "cell_type": "markdown",
   "metadata": {},
   "source": [
    "# 导论 "
   ]
  },
  {
   "cell_type": "markdown",
   "metadata": {},
   "source": [
    "## 什么是编程"
   ]
  },
  {
   "cell_type": "markdown",
   "metadata": {},
   "source": [
    "**编程(programming)** 就是告诉计算机要做什么."
   ]
  },
  {
   "cell_type": "markdown",
   "metadata": {},
   "source": [
    "**指令(instruction)** 就是下达给计算机的一个基本指令, 通常要求计算机做某件特定的事情."
   ]
  },
  {
   "cell_type": "markdown",
   "metadata": {},
   "source": [
    "**程序(program)或软件(software)** 很多指令放在一块."
   ]
  },
  {
   "cell_type": "markdown",
   "metadata": {},
   "source": [
    "## Python 我们和计算机沟通的语言"
   ]
  },
  {
   "cell_type": "markdown",
   "metadata": {},
   "source": [
    "**计算机的语言** $\\iff$ **人类的语言** "
   ]
  },
  {
   "cell_type": "markdown",
   "metadata": {},
   "source": [
    "汉语 $\\iff$ 英语 "
   ]
  },
  {
   "cell_type": "markdown",
   "metadata": {},
   "source": [
    "## 为什么学编程"
   ]
  },
  {
   "cell_type": "markdown",
   "metadata": {},
   "source": [
    "1. 想学\n",
    "1. 了解计算是如何工作的\n",
    "1. 写程序满足自己的需要"
   ]
  },
  {
   "cell_type": "markdown",
   "metadata": {},
   "source": [
    "## 为什么选用 Python 语言"
   ]
  },
  {
   "cell_type": "markdown",
   "metadata": {},
   "source": [
    "1. 便于学习\n",
    "1. 免费\n",
    "1. 开源(open source)\n",
    "1. 功能强大, 应用广泛\n",
    "1. 各种操作系统都能用"
   ]
  },
  {
   "cell_type": "markdown",
   "metadata": {},
   "source": [
    "对学习编程来说, 学会了一种语言, 就很容易学习其它语言."
   ]
  },
  {
   "cell_type": "markdown",
   "metadata": {},
   "source": [
    "## 有趣的内容"
   ]
  },
  {
   "cell_type": "markdown",
   "metadata": {},
   "source": [
    "自己设计游戏自己玩."
   ]
  },
  {
   "cell_type": "markdown",
   "metadata": {},
   "source": [
    "# 安装 "
   ]
  },
  {
   "cell_type": "markdown",
   "metadata": {},
   "source": [
    "## 安装 Anaconda "
   ]
  },
  {
   "cell_type": "markdown",
   "metadata": {},
   "source": [
    "已经编译好的 Python 软件包:\n",
    "\n",
    "http://www.lfd.uci.edu/~gohlke/pythonlibs\n"
   ]
  },
  {
   "cell_type": "markdown",
   "metadata": {},
   "source": [
    "## 安装依赖包"
   ]
  },
  {
   "cell_type": "markdown",
   "metadata": {},
   "source": [
    "```\n",
    "pip install easygui-0.98.0-py2.py3-none-any.whl\n",
    "pip install pygame-1.9.2b1-cp35-cp35m-win_amd64.whl\n",
    "pip install PyOpenGL_accelerate-3.1.1-cp35-cp35m-win_amd64.whl\n",
    "```"
   ]
  },
  {
   "cell_type": "markdown",
   "metadata": {},
   "source": [
    "其中, easygui 的 Anaconda3\\Lib\\sit-packages\\easygui\\boxes\\choice_box.py 的第 76 行\n",
    "\n",
    ", e 改为 as e"
   ]
  },
  {
   "cell_type": "code",
   "execution_count": null,
   "metadata": {
    "collapsed": true
   },
   "outputs": [],
   "source": []
  },
  {
   "cell_type": "markdown",
   "metadata": {},
   "source": [
    "# 第一章"
   ]
  },
  {
   "cell_type": "markdown",
   "metadata": {},
   "source": [
    "**图形用户界面(GUI: graphical user interface)**"
   ]
  },
  {
   "cell_type": "markdown",
   "metadata": {},
   "source": [
    "**命令行界面(CLI: command line interface)**"
   ]
  },
  {
   "cell_type": "markdown",
   "metadata": {},
   "source": [
    "## 指令"
   ]
  },
  {
   "cell_type": "markdown",
   "metadata": {},
   "source": [
    "**关键字(keyword)** Python 做为 Python 语言一部分的特殊, 也称保留字(reserved\n",
    " word)"
   ]
  },
  {
   "cell_type": "markdown",
   "metadata": {},
   "source": [
    "**print** 与语法错误"
   ]
  },
  {
   "cell_type": "markdown",
   "metadata": {},
   "source": [
    "## 与 Python 交互 "
   ]
  },
  {
   "cell_type": "markdown",
   "metadata": {},
   "source": [
    "1. 数学运算\n",
    "1. 字符串\n",
    "```\n",
    "\"pizza\"*20 \n",
    "\"cat\"+\"cat\"\n",
    "```\n",
    "1. 反复的做一件事情"
   ]
  },
  {
   "cell_type": "markdown",
   "metadata": {},
   "source": [
    "## 编程 "
   ]
  },
  {
   "cell_type": "markdown",
   "metadata": {},
   "source": [
    "### 编辑器"
   ]
  },
  {
   "cell_type": "code",
   "execution_count": 1,
   "metadata": {
    "collapsed": true
   },
   "outputs": [],
   "source": [
    "%edit test.py\n",
    "%run test.py"
   ]
  },
  {
   "cell_type": "markdown",
   "metadata": {},
   "source": [
    "设置默认编辑器: \n",
    "1. 我的电脑\n",
    "1. 属性\n",
    "1. 高级\n",
    "1. 设置环境变量 EDITOR"
   ]
  },
  {
   "cell_type": "markdown",
   "metadata": {},
   "source": [
    "### 第一个程序"
   ]
  },
  {
   "cell_type": "code",
   "execution_count": null,
   "metadata": {
    "collapsed": true
   },
   "outputs": [],
   "source": [
    "print(\"Hello, and welcome to Python!\")\n",
    "print(\"I hope you will enjoy learning to program.\")\n",
    "print(Bye for now!\")"
   ]
  },
  {
   "cell_type": "markdown",
   "metadata": {},
   "source": [
    "**如果出问题**\n",
    "1. 语法错误 (Syntax error)\n",
    "1. 运行时错误 (runtime error)"
   ]
  },
  {
   "cell_type": "code",
   "execution_count": 2,
   "metadata": {
    "collapsed": false
   },
   "outputs": [
    {
     "ename": "SyntaxError",
     "evalue": "invalid syntax (<ipython-input-2-6b9b253c0ab1>, line 3)",
     "output_type": "error",
     "traceback": [
      "\u001b[0;36m  File \u001b[0;32m\"<ipython-input-2-6b9b253c0ab1>\"\u001b[0;36m, line \u001b[0;32m3\u001b[0m\n\u001b[0;31m    print(Bye for now!\")\u001b[0m\n\u001b[0m                     ^\u001b[0m\n\u001b[0;31mSyntaxError\u001b[0m\u001b[0;31m:\u001b[0m invalid syntax\n"
     ]
    }
   ],
   "source": [
    "print(\"Hello, and welcome to Python!\")\n",
    "print(\"I hope you will enjoy learning to program.\")\n",
    "print(Bye for now!\")"
   ]
  },
  {
   "cell_type": "code",
   "execution_count": 3,
   "metadata": {
    "collapsed": false,
    "scrolled": true
   },
   "outputs": [
    {
     "name": "stdout",
     "output_type": "stream",
     "text": [
      "Hello, and welcome to Python!\n",
      "I hope you will enjoy learning to program.\n"
     ]
    },
    {
     "ename": "TypeError",
     "evalue": "Can't convert 'int' object to str implicitly",
     "output_type": "error",
     "traceback": [
      "\u001b[0;31m---------------------------------------------------------------------------\u001b[0m",
      "\u001b[0;31mTypeError\u001b[0m                                 Traceback (most recent call last)",
      "\u001b[0;32m<ipython-input-3-36cc02e06dd1>\u001b[0m in \u001b[0;36m<module>\u001b[0;34m()\u001b[0m\n\u001b[1;32m      1\u001b[0m \u001b[0mprint\u001b[0m\u001b[0;34m(\u001b[0m\u001b[0;34m\"Hello, and welcome to Python!\"\u001b[0m\u001b[0;34m)\u001b[0m\u001b[0;34m\u001b[0m\u001b[0m\n\u001b[1;32m      2\u001b[0m \u001b[0mprint\u001b[0m\u001b[0;34m(\u001b[0m\u001b[0;34m\"I hope you will enjoy learning to program.\"\u001b[0m\u001b[0;34m)\u001b[0m\u001b[0;34m\u001b[0m\u001b[0m\n\u001b[0;32m----> 3\u001b[0;31m \u001b[0mprint\u001b[0m\u001b[0;34m(\u001b[0m\u001b[0;34m\"Bye for now!\"\u001b[0m\u001b[0;34m+\u001b[0m\u001b[0;36m5\u001b[0m\u001b[0;34m)\u001b[0m\u001b[0;34m\u001b[0m\u001b[0m\n\u001b[0m",
      "\u001b[0;31mTypeError\u001b[0m: Can't convert 'int' object to str implicitly"
     ]
    }
   ],
   "source": [
    "print(\"Hello, and welcome to Python!\")\n",
    "print(\"I hope you will enjoy learning to program.\")\n",
    "print(\"Bye for now!\"+5)"
   ]
  },
  {
   "cell_type": "code",
   "execution_count": 4,
   "metadata": {
    "collapsed": false
   },
   "outputs": [
    {
     "ename": "TypeError",
     "evalue": "Can't convert 'int' object to str implicitly",
     "output_type": "error",
     "traceback": [
      "\u001b[0;31m---------------------------------------------------------------------------\u001b[0m",
      "\u001b[0;31mTypeError\u001b[0m                                 Traceback (most recent call last)",
      "\u001b[0;32m<ipython-input-4-a1424aa55b0f>\u001b[0m in \u001b[0;36m<module>\u001b[0;34m()\u001b[0m\n\u001b[1;32m      1\u001b[0m \u001b[0;34m\"Bye for now!\"\u001b[0m \u001b[0;34m*\u001b[0m \u001b[0;36m5\u001b[0m\u001b[0;34m\u001b[0m\u001b[0m\n\u001b[0;32m----> 2\u001b[0;31m \u001b[0;34m\"Bye for nwo!\"\u001b[0m \u001b[0;34m+\u001b[0m \u001b[0;36m5\u001b[0m\u001b[0;34m\u001b[0m\u001b[0m\n\u001b[0m",
      "\u001b[0;31mTypeError\u001b[0m: Can't convert 'int' object to str implicitly"
     ]
    }
   ],
   "source": [
    "\"Bye for now!\" * 5\n",
    "\"Bye for nwo!\" + 5"
   ]
  },
  {
   "cell_type": "markdown",
   "metadata": {},
   "source": [
    "### 第二个程序"
   ]
  },
  {
   "cell_type": "code",
   "execution_count": 5,
   "metadata": {
    "collapsed": false
   },
   "outputs": [
    {
     "name": "stdout",
     "output_type": "stream",
     "text": [
      "AHOY! I am the Dread Prites Roberts , and i have a secret!\n",
      "It is a number from 1 to 99. I'll give you 6 tries \n",
      "What is your guess? 50\n",
      "Too high, boy\n",
      "What is your guess? 25\n",
      "Too Low, you scurvy dog!\n",
      "What is your guess? 37\n",
      "Too Low, you scurvy dog!\n",
      "What is your guess? 45\n",
      "Too Low, you scurvy dog!\n",
      "What is your guess? 48\n",
      "Too high, boy\n",
      "What is your guess? 47\n",
      "Avast! you got it ! Found my seceret , you did!\n"
     ]
    }
   ],
   "source": [
    "import random\n",
    "secret = random.randint(1, 99)\n",
    "guess = 0\n",
    "tries = 0\n",
    "print ('AHOY! I am the Dread Prites Roberts , and i have a secret!')\n",
    "print ('It is a number from 1 to 99. I\\'ll give you 6 tries ')\n",
    "\n",
    "while guess != secret and tries < 6:\n",
    "    guess = int(input('What is your guess? '))\n",
    "    tries = tries + 1\n",
    "    if guess < secret:\n",
    "         print ('Too Low, you scurvy dog!')\n",
    "    elif guess > secret:\n",
    "         print ('Too high, boy')\n",
    "\n",
    "if guess == secret: \n",
    "    print ('Avast! you got it ! Found my seceret , you did!')\n",
    "else:\n",
    "    print ('No more guess! Better Luck next time')\n",
    "    print ('The secret number was',secret)"
   ]
  },
  {
   "cell_type": "code",
   "execution_count": null,
   "metadata": {
    "collapsed": true
   },
   "outputs": [],
   "source": []
  }
 ],
 "metadata": {
  "kernelspec": {
   "display_name": "Python 3",
   "language": "python",
   "name": "python3"
  },
  "language_info": {
   "codemirror_mode": {
    "name": "ipython",
    "version": 3
   },
   "file_extension": ".py",
   "mimetype": "text/x-python",
   "name": "python",
   "nbconvert_exporter": "python",
   "pygments_lexer": "ipython3",
   "version": "3.5.2"
  },
  "latex_envs": {
   "LaTeX_envs_menu_present": true,
   "bibliofile": "biblio.bib",
   "cite_by": "apalike",
   "current_citInitial": 1,
   "eqLabelWithNumbers": true,
   "eqNumInitial": 0
  }
 },
 "nbformat": 4,
 "nbformat_minor": 1
}
